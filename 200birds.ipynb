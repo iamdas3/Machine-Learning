{
  "nbformat": 4,
  "nbformat_minor": 0,
  "metadata": {
    "colab": {
      "name": "200birds.ipynb",
      "provenance": [],
      "authorship_tag": "ABX9TyM+DfYUMFf1oQ9HIPiRngJz",
      "include_colab_link": true
    },
    "kernelspec": {
      "name": "python3",
      "display_name": "Python 3"
    },
    "accelerator": "GPU"
  },
  "cells": [
    {
      "cell_type": "markdown",
      "metadata": {
        "id": "view-in-github",
        "colab_type": "text"
      },
      "source": [
        "<a href=\"https://colab.research.google.com/github/iamdas3/Machine-Learning/blob/master/200birds.ipynb\" target=\"_parent\"><img src=\"https://colab.research.google.com/assets/colab-badge.svg\" alt=\"Open In Colab\"/></a>"
      ]
    },
    {
      "cell_type": "code",
      "metadata": {
        "id": "YJPtpS-gS336",
        "colab_type": "code",
        "colab": {}
      },
      "source": [
        "!mkdir .kaggle"
      ],
      "execution_count": null,
      "outputs": []
    },
    {
      "cell_type": "code",
      "metadata": {
        "id": "Uz5BFhmxS32D",
        "colab_type": "code",
        "colab": {}
      },
      "source": [
        "import json\n",
        "token = {'username':'trideepdas42291','key':'6a1a0886f367c6d9302074aa0917d240'}\n",
        "with open('/content/.kaggle/kaggle.json', 'w') as file:\n",
        "    json.dump(token, file)"
      ],
      "execution_count": null,
      "outputs": []
    },
    {
      "cell_type": "code",
      "metadata": {
        "id": "gSRwL70AS3yQ",
        "colab_type": "code",
        "colab": {}
      },
      "source": [
        "!mkdir ~/.kaggle"
      ],
      "execution_count": null,
      "outputs": []
    },
    {
      "cell_type": "code",
      "metadata": {
        "id": "kz6xCeNUS3wg",
        "colab_type": "code",
        "colab": {}
      },
      "source": [
        "!cp /content/.kaggle/kaggle.json ~/.kaggle/kaggle.json"
      ],
      "execution_count": null,
      "outputs": []
    },
    {
      "cell_type": "code",
      "metadata": {
        "id": "u1iszrJ_S3sF",
        "colab_type": "code",
        "colab": {}
      },
      "source": [
        "!chmod 600 /root/.kaggle/kaggle.json"
      ],
      "execution_count": null,
      "outputs": []
    },
    {
      "cell_type": "code",
      "metadata": {
        "id": "sRyet6KIS3qv",
        "colab_type": "code",
        "colab": {
          "base_uri": "https://localhost:8080/",
          "height": 68
        },
        "outputId": "c18d07e6-4787-4768-907c-c6769dd1f709"
      },
      "source": [
        "!kaggle datasets download -d gpiosenka/100-bird-species"
      ],
      "execution_count": null,
      "outputs": [
        {
          "output_type": "stream",
          "text": [
            "Downloading 100-bird-species.zip to /content\n",
            " 99% 1.17G/1.19G [00:22<00:00, 60.7MB/s]\n",
            "100% 1.19G/1.19G [00:22<00:00, 57.7MB/s]\n"
          ],
          "name": "stdout"
        }
      ]
    },
    {
      "cell_type": "code",
      "metadata": {
        "id": "0y5cfncSS3mF",
        "colab_type": "code",
        "colab": {}
      },
      "source": [
        "import os\n",
        "import zipfile\n",
        "\n",
        "local_zip = '/content/100-bird-species.zip'\n",
        "zip_ref = zipfile.ZipFile(local_zip, 'r')\n",
        "zip_ref.extractall('/tmp/')\n",
        "zip_ref.close()"
      ],
      "execution_count": null,
      "outputs": []
    },
    {
      "cell_type": "code",
      "metadata": {
        "id": "aIw1IHOXS3kO",
        "colab_type": "code",
        "colab": {
          "base_uri": "https://localhost:8080/",
          "height": 51
        },
        "outputId": "01e7f4a9-07cb-449c-ebca-fe090c8bd171"
      },
      "source": [
        "import tensorflow as tf\n",
        "import keras_preprocessing\n",
        "from keras_preprocessing import image\n",
        "from keras_preprocessing.image import ImageDataGenerator\n",
        "\n",
        "TRAINING_DIR = \"/tmp/train/\"\n",
        "training_datagen = ImageDataGenerator(\n",
        "      rescale = 1./255,\n",
        "\t    rotation_range=40,\n",
        "      width_shift_range=0.2,\n",
        "      height_shift_range=0.2,\n",
        "      shear_range=0.2,\n",
        "      zoom_range=0.2,\n",
        "      horizontal_flip=True,\n",
        "      fill_mode='nearest')\n",
        "\n",
        "VALIDATION_DIR = \"/tmp/valid/\"\n",
        "validation_datagen = ImageDataGenerator(rescale = 1./255)\n",
        "\n",
        "train_generator = training_datagen.flow_from_directory(\n",
        "\tTRAINING_DIR,\n",
        "\ttarget_size=(224,224),\n",
        "\tclass_mode='categorical',\n",
        "  batch_size=128\n",
        ")\n",
        "\n",
        "validation_generator = validation_datagen.flow_from_directory(\n",
        "\tVALIDATION_DIR,\n",
        "\ttarget_size=(224,224),\n",
        "\tclass_mode='categorical',\n",
        "  batch_size=32\n",
        ")"
      ],
      "execution_count": null,
      "outputs": [
        {
          "output_type": "stream",
          "text": [
            "Found 27503 images belonging to 200 classes.\n",
            "Found 1000 images belonging to 200 classes.\n"
          ],
          "name": "stdout"
        }
      ]
    },
    {
      "cell_type": "code",
      "metadata": {
        "id": "sANF4NeeSy8l",
        "colab_type": "code",
        "colab": {
          "base_uri": "https://localhost:8080/",
          "height": 255
        },
        "outputId": "d73cca77-408c-420d-87fb-5c350c0aa988"
      },
      "source": [
        "pretrained_model = tf.keras.applications.Xception(\n",
        "        weights='imagenet',\n",
        "        include_top=False ,\n",
        "        input_shape=[224,224, 3]\n",
        ")\n",
        "pretrained_model.trainable = False\n",
        "    \n",
        "model = tf.keras.Sequential([\n",
        "        # To a base pretrained on ImageNet to extract features from images...\n",
        "    pretrained_model,\n",
        "        # ... attach a new head to act as a classifier.\n",
        "        #tf.keras.layers.Conv2D(512, [3,3], activation='relu'),\n",
        "        #tf.keras.layers.MaxPooling2D(2,2),\n",
        "        #tf.keras.layers.Conv2D(512, [3,3], activation='relu'),\n",
        "        #tf.keras.layers.MaxPooling2D(2,2),\n",
        "        #tf.keras.layers.Flatten(),\n",
        "        #tf.keras.layers.Dense(512, activation='relu'),\n",
        "\n",
        "        #tf.keras.layers.Dense(512, activation='relu'),\n",
        "    tf.keras.layers.GlobalAveragePooling2D(),\n",
        "    tf.keras.layers.Dense(200, activation='softmax')\n",
        "])\n",
        "model.compile(\n",
        "        optimizer='adam',\n",
        "        loss = 'categorical_crossentropy',\n",
        "        metrics=['accuracy'],\n",
        ")\n",
        "\n",
        "model.summary()"
      ],
      "execution_count": null,
      "outputs": [
        {
          "output_type": "stream",
          "text": [
            "Model: \"sequential_1\"\n",
            "_________________________________________________________________\n",
            "Layer (type)                 Output Shape              Param #   \n",
            "=================================================================\n",
            "xception (Model)             (None, 7, 7, 2048)        20861480  \n",
            "_________________________________________________________________\n",
            "global_average_pooling2d_1 ( (None, 2048)              0         \n",
            "_________________________________________________________________\n",
            "dense_1 (Dense)              (None, 200)               409800    \n",
            "=================================================================\n",
            "Total params: 21,271,280\n",
            "Trainable params: 409,800\n",
            "Non-trainable params: 20,861,480\n",
            "_________________________________________________________________\n"
          ],
          "name": "stdout"
        }
      ]
    },
    {
      "cell_type": "code",
      "metadata": {
        "id": "_EisqhGsTagI",
        "colab_type": "code",
        "colab": {
          "base_uri": "https://localhost:8080/",
          "height": 377
        },
        "outputId": "455e27f8-2dbb-4c6f-a039-0ff493831adf"
      },
      "source": [
        "history = model.fit(train_generator, epochs=10, steps_per_epoch=27503/128, validation_data = validation_generator, verbose = 1, validation_steps=1000/32)"
      ],
      "execution_count": null,
      "outputs": [
        {
          "output_type": "stream",
          "text": [
            "Epoch 1/10\n",
            "215/214 [==============================] - 309s 1s/step - loss: 2.0267 - accuracy: 0.5911 - val_loss: 0.7405 - val_accuracy: 0.8460\n",
            "Epoch 2/10\n",
            "215/214 [==============================] - 303s 1s/step - loss: 0.9251 - accuracy: 0.7793 - val_loss: 0.4666 - val_accuracy: 0.9010\n",
            "Epoch 3/10\n",
            "215/214 [==============================] - 302s 1s/step - loss: 0.7302 - accuracy: 0.8175 - val_loss: 0.3850 - val_accuracy: 0.9170\n",
            "Epoch 4/10\n",
            "215/214 [==============================] - 304s 1s/step - loss: 0.6413 - accuracy: 0.8348 - val_loss: 0.3241 - val_accuracy: 0.9190\n",
            "Epoch 5/10\n",
            "215/214 [==============================] - 303s 1s/step - loss: 0.5777 - accuracy: 0.8482 - val_loss: 0.3038 - val_accuracy: 0.9180\n",
            "Epoch 6/10\n",
            "215/214 [==============================] - 303s 1s/step - loss: 0.5247 - accuracy: 0.8605 - val_loss: 0.2823 - val_accuracy: 0.9280\n",
            "Epoch 7/10\n",
            "215/214 [==============================] - 311s 1s/step - loss: 0.4931 - accuracy: 0.8686 - val_loss: 0.2680 - val_accuracy: 0.9240\n",
            "Epoch 8/10\n",
            "215/214 [==============================] - 316s 1s/step - loss: 0.4612 - accuracy: 0.8759 - val_loss: 0.2612 - val_accuracy: 0.9320\n",
            "Epoch 9/10\n",
            "215/214 [==============================] - 319s 1s/step - loss: 0.4442 - accuracy: 0.8806 - val_loss: 0.2423 - val_accuracy: 0.9350\n",
            "Epoch 10/10\n",
            "215/214 [==============================] - 320s 1s/step - loss: 0.4252 - accuracy: 0.8818 - val_loss: 0.2387 - val_accuracy: 0.9390\n"
          ],
          "name": "stdout"
        }
      ]
    },
    {
      "cell_type": "code",
      "metadata": {
        "id": "9SOj3nJhdYOk",
        "colab_type": "code",
        "colab": {}
      },
      "source": [
        "model.save(\"/tmp/200_birds_model_Xception.h5\")"
      ],
      "execution_count": null,
      "outputs": []
    },
    {
      "cell_type": "code",
      "metadata": {
        "id": "DPmQnIWmTcj0",
        "colab_type": "code",
        "colab": {
          "base_uri": "https://localhost:8080/",
          "height": 298
        },
        "outputId": "e4145e93-a58d-4178-c678-c119ccc6ee4c"
      },
      "source": [
        "import matplotlib.pyplot as plt\n",
        "acc = history.history['accuracy']\n",
        "val_acc = history.history['val_accuracy']\n",
        "loss = history.history['loss']\n",
        "val_loss = history.history['val_loss']\n",
        "\n",
        "epochs = range(len(acc))\n",
        "\n",
        "plt.plot(epochs, acc, 'r', label='Training accuracy')\n",
        "plt.plot(epochs, val_acc, 'b', label='Validation accuracy')\n",
        "plt.title('Training and validation accuracy')\n",
        "plt.legend(loc=0)\n",
        "plt.figure()\n",
        "\n",
        "\n",
        "plt.show()"
      ],
      "execution_count": null,
      "outputs": [
        {
          "output_type": "display_data",
          "data": {
            "image/png": "[encoded data removed]",
            "text/plain": [
              "<Figure size 432x288 with 1 Axes>"
            ]
          },
          "metadata": {
            "tags": [],
            "needs_background": "light"
          }
        },
        {
          "output_type": "display_data",
          "data": {
            "text/plain": [
              "<Figure size 432x288 with 0 Axes>"
            ]
          },
          "metadata": {
            "tags": []
          }
        }
      ]
    },
    {
      "cell_type": "code",
      "metadata": {
        "id": "2k2rvn4Tdmt1",
        "colab_type": "code",
        "colab": {
          "base_uri": "https://localhost:8080/",
          "height": 34
        },
        "outputId": "cac01b53-04e7-4fbd-f0d1-71b4afad7481"
      },
      "source": [
        "TESTING_DIR = \"/tmp/test/\"\n",
        "testing_datagen = ImageDataGenerator(rescale = 1./255)\n",
        "testing_generator = testing_datagen.flow_from_directory(\n",
        "\tTESTING_DIR,\n",
        "\ttarget_size=(224,224),\n",
        "\tclass_mode='categorical',\n",
        "  batch_size=32\n",
        ")"
      ],
      "execution_count": null,
      "outputs": [
        {
          "output_type": "stream",
          "text": [
            "Found 1000 images belonging to 200 classes.\n"
          ],
          "name": "stdout"
        }
      ]
    },
    {
      "cell_type": "code",
      "metadata": {
        "id": "30_QMxkbe-R1",
        "colab_type": "code",
        "colab": {
          "base_uri": "https://localhost:8080/",
          "height": 71
        },
        "outputId": "ee98af02-c31d-4f75-9253-ad233a5c9af0"
      },
      "source": [
        "model.evaluate(testing_generator, steps=1000/32, verbose=1)"
      ],
      "execution_count": null,
      "outputs": [
        {
          "output_type": "stream",
          "text": [
            "32/31 [==============================] - 3s 79ms/step - loss: 0.1635 - accuracy: 0.9600\n"
          ],
          "name": "stdout"
        },
        {
          "output_type": "execute_result",
          "data": {
            "text/plain": [
              "[0.1635074019432068, 0.9599999785423279]"
            ]
          },
          "metadata": {
            "tags": []
          },
          "execution_count": 16
        }
      ]
    },
    {
      "cell_type": "code",
      "metadata": {
        "id": "OoobOLTTgGXv",
        "colab_type": "code",
        "colab": {}
      },
      "source": [
        ""
      ],
      "execution_count": null,
      "outputs": []
    }
  ]
}