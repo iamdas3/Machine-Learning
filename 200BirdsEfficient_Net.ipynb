{
  "nbformat": 4,
  "nbformat_minor": 0,
  "metadata": {
    "colab": {
      "name": "200BirdsEfficient_Net.ipynb",
      "provenance": [],
      "authorship_tag": "ABX9TyP2cvpXFqWCChEOMK4cjDon",
      "include_colab_link": true
    },
    "kernelspec": {
      "name": "python3",
      "display_name": "Python 3"
    },
    "accelerator": "GPU"
  },
  "cells": [
    {
      "cell_type": "markdown",
      "metadata": {
        "id": "view-in-github",
        "colab_type": "text"
      },
      "source": [
        "<a href=\"https://colab.research.google.com/github/iamdas3/Machine-Learning/blob/master/200BirdsEfficient_Net.ipynb\" target=\"_parent\"><img src=\"https://colab.research.google.com/assets/colab-badge.svg\" alt=\"Open In Colab\"/></a>"
      ]
    },
    {
      "cell_type": "code",
      "metadata": {
        "id": "dGA3sd6LMkHN",
        "colab_type": "code",
        "colab": {}
      },
      "source": [
        "!mkdir .kaggle"
      ],
      "execution_count": 1,
      "outputs": []
    },
    {
      "cell_type": "code",
      "metadata": {
        "id": "qeA8mmScNQis",
        "colab_type": "code",
        "colab": {}
      },
      "source": [
        "import json\n",
        "token = {'username':'trideepdas42291','key':'6a1a0886f367c6d9302074aa0917d240'}\n",
        "with open('/content/.kaggle/kaggle.json', 'w') as file:\n",
        "    json.dump(token, file)"
      ],
      "execution_count": 2,
      "outputs": []
    },
    {
      "cell_type": "code",
      "metadata": {
        "id": "gucgNbWxNQhR",
        "colab_type": "code",
        "colab": {}
      },
      "source": [
        "!mkdir ~/.kaggle"
      ],
      "execution_count": 3,
      "outputs": []
    },
    {
      "cell_type": "code",
      "metadata": {
        "id": "73YF-zADNQeX",
        "colab_type": "code",
        "colab": {}
      },
      "source": [
        "!cp /content/.kaggle/kaggle.json ~/.kaggle/kaggle.json"
      ],
      "execution_count": 4,
      "outputs": []
    },
    {
      "cell_type": "code",
      "metadata": {
        "id": "x6MS_sWFNXSt",
        "colab_type": "code",
        "colab": {}
      },
      "source": [
        "!chmod 600 /root/.kaggle/kaggle.json\n"
      ],
      "execution_count": 5,
      "outputs": []
    },
    {
      "cell_type": "code",
      "metadata": {
        "id": "EsdJaUj8NEbb",
        "colab_type": "code",
        "colab": {
          "base_uri": "https://localhost:8080/",
          "height": 68
        },
        "outputId": "00858688-806a-4d89-cafa-151252f115fc"
      },
      "source": [
        "!kaggle datasets download -d gpiosenka/100-bird-species"
      ],
      "execution_count": 6,
      "outputs": [
        {
          "output_type": "stream",
          "text": [
            "Downloading 100-bird-species.zip to /content\n",
            "100% 1.19G/1.19G [00:08<00:00, 178MB/s]\n",
            "100% 1.19G/1.19G [00:08<00:00, 158MB/s]\n"
          ],
          "name": "stdout"
        }
      ]
    },
    {
      "cell_type": "code",
      "metadata": {
        "id": "8oBGqQF7Nc16",
        "colab_type": "code",
        "colab": {}
      },
      "source": [
        "import os\n",
        "import zipfile\n",
        "\n",
        "local_zip = '/content/100-bird-species.zip'\n",
        "zip_ref = zipfile.ZipFile(local_zip, 'r')\n",
        "zip_ref.extractall('/tmp/')\n",
        "zip_ref.close()"
      ],
      "execution_count": 7,
      "outputs": []
    },
    {
      "cell_type": "code",
      "metadata": {
        "id": "fg7c9qn5NtwK",
        "colab_type": "code",
        "colab": {
          "base_uri": "https://localhost:8080/",
          "height": 51
        },
        "outputId": "39047fa6-e7a8-437e-faae-ba09cc150989"
      },
      "source": [
        "import tensorflow as tf\n",
        "import keras_preprocessing\n",
        "from keras_preprocessing import image\n",
        "from keras_preprocessing.image import ImageDataGenerator\n",
        "\n",
        "TRAINING_DIR = \"/tmp/train/\"\n",
        "training_datagen = ImageDataGenerator(\n",
        "      rescale = 1./255,\n",
        "\t    rotation_range=40,\n",
        "      width_shift_range=0.2,\n",
        "      height_shift_range=0.2,\n",
        "      shear_range=0.2,\n",
        "      zoom_range=0.2,\n",
        "      horizontal_flip=True,\n",
        "      fill_mode='nearest')\n",
        "\n",
        "VALIDATION_DIR = \"/tmp/valid/\"\n",
        "validation_datagen = ImageDataGenerator(rescale = 1./255)\n",
        "\n",
        "train_generator = training_datagen.flow_from_directory(\n",
        "\tTRAINING_DIR,\n",
        "\ttarget_size=(224,224),\n",
        "\tclass_mode='categorical',\n",
        "  batch_size=128\n",
        ")\n",
        "\n",
        "validation_generator = validation_datagen.flow_from_directory(\n",
        "\tVALIDATION_DIR,\n",
        "\ttarget_size=(224,224),\n",
        "\tclass_mode='categorical',\n",
        "  batch_size=32\n",
        ")"
      ],
      "execution_count": 8,
      "outputs": [
        {
          "output_type": "stream",
          "text": [
            "Found 27503 images belonging to 200 classes.\n",
            "Found 1000 images belonging to 200 classes.\n"
          ],
          "name": "stdout"
        }
      ]
    },
    {
      "cell_type": "code",
      "metadata": {
        "id": "t3f0ClKEOYH8",
        "colab_type": "code",
        "colab": {}
      },
      "source": [
        "!pip install -q efficientnet\n"
      ],
      "execution_count": 9,
      "outputs": []
    },
    {
      "cell_type": "code",
      "metadata": {
        "id": "6n5tuH3-RBYs",
        "colab_type": "code",
        "colab": {}
      },
      "source": [
        "import efficientnet.tfkeras as efn"
      ],
      "execution_count": 10,
      "outputs": []
    },
    {
      "cell_type": "code",
      "metadata": {
        "id": "7pvlPVvVRExh",
        "colab_type": "code",
        "colab": {
          "base_uri": "https://localhost:8080/",
          "height": 255
        },
        "outputId": "731fc088-3ffd-4fcf-ae51-9c59e7c08877"
      },
      "source": [
        "pretrained_model = efn.EfficientNetB7(\n",
        "        weights='imagenet',\n",
        "        include_top=False ,\n",
        "        input_shape=[224,224, 3]\n",
        ")\n",
        "pretrained_model.trainable = False\n",
        "    \n",
        "model = tf.keras.Sequential([\n",
        "        # To a base pretrained on ImageNet to extract features from images...\n",
        "    pretrained_model,\n",
        "        # ... attach a new head to act as a classifier.\n",
        "        #tf.keras.layers.Conv2D(512, [3,3], activation='relu'),\n",
        "        #tf.keras.layers.MaxPooling2D(2,2),\n",
        "        #tf.keras.layers.Conv2D(512, [3,3], activation='relu'),\n",
        "        #tf.keras.layers.MaxPooling2D(2,2),\n",
        "        #tf.keras.layers.Flatten(),\n",
        "        #tf.keras.layers.Dense(512, activation='relu'),\n",
        "\n",
        "        #tf.keras.layers.Dense(512, activation='relu'),\n",
        "    tf.keras.layers.GlobalAveragePooling2D(),\n",
        "    tf.keras.layers.Dense(200, activation='softmax')\n",
        "])\n",
        "model.compile(\n",
        "        optimizer='adam',\n",
        "        loss = 'categorical_crossentropy',\n",
        "        metrics=['accuracy'],\n",
        ")\n",
        "\n",
        "model.summary()"
      ],
      "execution_count": 13,
      "outputs": [
        {
          "output_type": "stream",
          "text": [
            "Model: \"sequential_1\"\n",
            "_________________________________________________________________\n",
            "Layer (type)                 Output Shape              Param #   \n",
            "=================================================================\n",
            "efficientnet-b7 (Model)      (None, 7, 7, 2560)        64097680  \n",
            "_________________________________________________________________\n",
            "global_average_pooling2d (Gl (None, 2560)              0         \n",
            "_________________________________________________________________\n",
            "dense_1 (Dense)              (None, 200)               512200    \n",
            "=================================================================\n",
            "Total params: 64,609,880\n",
            "Trainable params: 512,200\n",
            "Non-trainable params: 64,097,680\n",
            "_________________________________________________________________\n"
          ],
          "name": "stdout"
        }
      ]
    },
    {
      "cell_type": "code",
      "metadata": {
        "id": "IR2gYIoTRozU",
        "colab_type": "code",
        "colab": {
          "base_uri": "https://localhost:8080/",
          "height": 377
        },
        "outputId": "7a658532-bed3-40a0-d5d7-9ec3bfb33b4a"
      },
      "source": [
        "history = model.fit(train_generator, epochs=10, steps_per_epoch=27503/128, validation_data = validation_generator, verbose = 1, validation_steps=1000/32)"
      ],
      "execution_count": 14,
      "outputs": [
        {
          "output_type": "stream",
          "text": [
            "Epoch 1/10\n",
            "215/214 [==============================] - 643s 3s/step - loss: 2.9927 - accuracy: 0.4328 - val_loss: 1.1742 - val_accuracy: 0.7720\n",
            "Epoch 2/10\n",
            "215/214 [==============================] - 633s 3s/step - loss: 1.6735 - accuracy: 0.6562 - val_loss: 0.6811 - val_accuracy: 0.8720\n",
            "Epoch 3/10\n",
            "215/214 [==============================] - 633s 3s/step - loss: 1.3491 - accuracy: 0.7019 - val_loss: 0.5131 - val_accuracy: 0.8930\n",
            "Epoch 4/10\n",
            "215/214 [==============================] - 632s 3s/step - loss: 1.1964 - accuracy: 0.7283 - val_loss: 0.4170 - val_accuracy: 0.9110\n",
            "Epoch 5/10\n",
            "215/214 [==============================] - 633s 3s/step - loss: 1.0976 - accuracy: 0.7459 - val_loss: 0.3522 - val_accuracy: 0.9260\n",
            "Epoch 6/10\n",
            "215/214 [==============================] - 635s 3s/step - loss: 1.0116 - accuracy: 0.7619 - val_loss: 0.3296 - val_accuracy: 0.9170\n",
            "Epoch 7/10\n",
            "215/214 [==============================] - 633s 3s/step - loss: 0.9732 - accuracy: 0.7680 - val_loss: 0.2963 - val_accuracy: 0.9220\n",
            "Epoch 8/10\n",
            "215/214 [==============================] - 633s 3s/step - loss: 0.9068 - accuracy: 0.7809 - val_loss: 0.2745 - val_accuracy: 0.9310\n",
            "Epoch 9/10\n",
            "215/214 [==============================] - 633s 3s/step - loss: 0.8909 - accuracy: 0.7865 - val_loss: 0.2594 - val_accuracy: 0.9360\n",
            "Epoch 10/10\n",
            "215/214 [==============================] - 633s 3s/step - loss: 0.8722 - accuracy: 0.7866 - val_loss: 0.2427 - val_accuracy: 0.9420\n"
          ],
          "name": "stdout"
        }
      ]
    },
    {
      "cell_type": "code",
      "metadata": {
        "id": "x4zMu2EQSBFA",
        "colab_type": "code",
        "colab": {}
      },
      "source": [
        "model.save(\"/tmp/200_birds_model_Efficient_NetB7.h5\")"
      ],
      "execution_count": 15,
      "outputs": []
    },
    {
      "cell_type": "code",
      "metadata": {
        "id": "CiCp5xXTrB6A",
        "colab_type": "code",
        "colab": {
          "base_uri": "https://localhost:8080/",
          "height": 298
        },
        "outputId": "da0eaa02-5374-4f86-98ea-7b4d1ab46f34"
      },
      "source": [
        "import matplotlib.pyplot as plt\n",
        "acc = history.history['accuracy']\n",
        "val_acc = history.history['val_accuracy']\n",
        "loss = history.history['loss']\n",
        "val_loss = history.history['val_loss']\n",
        "\n",
        "epochs = range(len(acc))\n",
        "\n",
        "plt.plot(epochs, acc, 'r', label='Training accuracy')\n",
        "plt.plot(epochs, val_acc, 'b', label='Validation accuracy')\n",
        "plt.title('Training and validation accuracy')\n",
        "plt.legend(loc=0)\n",
        "plt.figure()\n",
        "\n",
        "\n",
        "plt.show()"
      ],
      "execution_count": 17,
      "outputs": [
        {
          "output_type": "display_data",
          "data": {
            "image/png": "[encoded data removed]",
            "text/plain": [
              "<Figure size 432x288 with 1 Axes>"
            ]
          },
          "metadata": {
            "tags": [],
            "needs_background": "light"
          }
        },
        {
          "output_type": "display_data",
          "data": {
            "text/plain": [
              "<Figure size 432x288 with 0 Axes>"
            ]
          },
          "metadata": {
            "tags": []
          }
        }
      ]
    },
    {
      "cell_type": "code",
      "metadata": {
        "id": "lk5-55WerFjG",
        "colab_type": "code",
        "colab": {
          "base_uri": "https://localhost:8080/",
          "height": 34
        },
        "outputId": "560d8e71-769f-4555-a19d-fc43245b853b"
      },
      "source": [
        "TESTING_DIR = \"/tmp/test/\"\n",
        "testing_datagen = ImageDataGenerator(rescale = 1./255)\n",
        "testing_generator = testing_datagen.flow_from_directory(\n",
        "\tTESTING_DIR,\n",
        "\ttarget_size=(224,224),\n",
        "\tclass_mode='categorical',\n",
        "  batch_size=32\n",
        ")"
      ],
      "execution_count": 18,
      "outputs": [
        {
          "output_type": "stream",
          "text": [
            "Found 1000 images belonging to 200 classes.\n"
          ],
          "name": "stdout"
        }
      ]
    },
    {
      "cell_type": "code",
      "metadata": {
        "id": "AXtcKODUrHam",
        "colab_type": "code",
        "colab": {
          "base_uri": "https://localhost:8080/",
          "height": 51
        },
        "outputId": "f5e842c0-9d5d-43e9-abee-4ca7b7e8b4ee"
      },
      "source": [
        "model.evaluate(testing_generator, steps=1000//32, verbose=1)"
      ],
      "execution_count": 19,
      "outputs": [
        {
          "output_type": "stream",
          "text": [
            "31/31 [==============================] - 22s 717ms/step - loss: 0.2015 - accuracy: 0.9567\n"
          ],
          "name": "stdout"
        },
        {
          "output_type": "execute_result",
          "data": {
            "text/plain": [
              "[0.20153892040252686, 0.9566532373428345]"
            ]
          },
          "metadata": {
            "tags": []
          },
          "execution_count": 19
        }
      ]
    },
    {
      "cell_type": "code",
      "metadata": {
        "id": "lLQcJg0PrJXr",
        "colab_type": "code",
        "colab": {
          "base_uri": "https://localhost:8080/",
          "height": 34
        },
        "outputId": "4e47e271-ce4f-4259-f044-1a88a6a004ce"
      },
      "source": [
        "from google.colab import files\n",
        "files.download('/tmp/200_birds_model_Efficient_NetB7.h5') "
      ],
      "execution_count": 20,
      "outputs": [
        {
          "output_type": "display_data",
          "data": {
            "application/javascript": [
              "\n",
              "    async function download(id, filename, size) {\n",
              "      if (!google.colab.kernel.accessAllowed) {\n",
              "        return;\n",
              "      }\n",
              "      const div = document.createElement('div');\n",
              "      const label = document.createElement('label');\n",
              "      label.textContent = `Downloading \"${filename}\": `;\n",
              "      div.appendChild(label);\n",
              "      const progress = document.createElement('progress');\n",
              "      progress.max = size;\n",
              "      div.appendChild(progress);\n",
              "      document.body.appendChild(div);\n",
              "\n",
              "      const buffers = [];\n",
              "      let downloaded = 0;\n",
              "\n",
              "      const channel = await google.colab.kernel.comms.open(id);\n",
              "      // Send a message to notify the kernel that we're ready.\n",
              "      channel.send({})\n",
              "\n",
              "      for await (const message of channel.messages) {\n",
              "        // Send a message to notify the kernel that we're ready.\n",
              "        channel.send({})\n",
              "        if (message.buffers) {\n",
              "          for (const buffer of message.buffers) {\n",
              "            buffers.push(buffer);\n",
              "            downloaded += buffer.byteLength;\n",
              "            progress.value = downloaded;\n",
              "          }\n",
              "        }\n",
              "      }\n",
              "      const blob = new Blob(buffers, {type: 'application/binary'});\n",
              "      const a = document.createElement('a');\n",
              "      a.href = window.URL.createObjectURL(blob);\n",
              "      a.download = filename;\n",
              "      div.appendChild(a);\n",
              "      a.click();\n",
              "      div.remove();\n",
              "    }\n",
              "  "
            ],
            "text/plain": [
              "<IPython.core.display.Javascript object>"
            ]
          },
          "metadata": {
            "tags": []
          }
        },
        {
          "output_type": "display_data",
          "data": {
            "application/javascript": [
              "download(\"download_5cfed4e0-2e93-40e9-98f1-e58862c16479\", \"200_birds_model_Efficient_NetB7.h5\", 263770280)"
            ],
            "text/plain": [
              "<IPython.core.display.Javascript object>"
            ]
          },
          "metadata": {
            "tags": []
          }
        }
      ]
    },
    {
      "cell_type": "code",
      "metadata": {
        "id": "TJs4GJ6CrVkX",
        "colab_type": "code",
        "colab": {}
      },
      "source": [
        ""
      ],
      "execution_count": null,
      "outputs": []
    }
  ]
}