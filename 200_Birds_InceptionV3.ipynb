{
  "nbformat": 4,
  "nbformat_minor": 0,
  "metadata": {
    "colab": {
      "name": "200_Birds_InceptionV3.ipynb",
      "provenance": [],
      "authorship_tag": "ABX9TyMM5jp2c1jK13DEHvAcTiQk",
      "include_colab_link": true
    },
    "kernelspec": {
      "name": "python3",
      "display_name": "Python 3"
    },
    "accelerator": "GPU"
  },
  "cells": [
    {
      "cell_type": "markdown",
      "metadata": {
        "id": "view-in-github",
        "colab_type": "text"
      },
      "source": [
        "<a href=\"https://colab.research.google.com/github/iamdas3/Machine-Learning/blob/master/200_Birds_InceptionV3.ipynb\" target=\"_parent\"><img src=\"https://colab.research.google.com/assets/colab-badge.svg\" alt=\"Open In Colab\"/></a>"
      ]
    },
    {
      "cell_type": "code",
      "metadata": {
        "id": "rgsqXEVHuJSf",
        "colab_type": "code",
        "colab": {}
      },
      "source": [
        "!mkdir .kaggle"
      ],
      "execution_count": 1,
      "outputs": []
    },
    {
      "cell_type": "code",
      "metadata": {
        "id": "_g1s8blHuMh8",
        "colab_type": "code",
        "colab": {}
      },
      "source": [
        "import json\n",
        "token = {'username':'trideepdas42291','key':'6a1a0886f367c6d9302074aa0917d240'}\n",
        "with open('/content/.kaggle/kaggle.json', 'w') as file:\n",
        "    json.dump(token, file)"
      ],
      "execution_count": 2,
      "outputs": []
    },
    {
      "cell_type": "code",
      "metadata": {
        "id": "p4X-6H2ouN3W",
        "colab_type": "code",
        "colab": {}
      },
      "source": [
        "!mkdir ~/.kaggle"
      ],
      "execution_count": 3,
      "outputs": []
    },
    {
      "cell_type": "code",
      "metadata": {
        "id": "m7o9qzVauPBX",
        "colab_type": "code",
        "colab": {}
      },
      "source": [
        "!cp /content/.kaggle/kaggle.json ~/.kaggle/kaggle.json"
      ],
      "execution_count": 4,
      "outputs": []
    },
    {
      "cell_type": "code",
      "metadata": {
        "id": "1-Rutl97uQIz",
        "colab_type": "code",
        "colab": {}
      },
      "source": [
        "!chmod 600 /root/.kaggle/kaggle.json"
      ],
      "execution_count": 5,
      "outputs": []
    },
    {
      "cell_type": "code",
      "metadata": {
        "id": "L189S4qPuRdL",
        "colab_type": "code",
        "colab": {
          "base_uri": "https://localhost:8080/",
          "height": 68
        },
        "outputId": "780e74db-67d3-42e3-afc7-d0ffc1b52e69"
      },
      "source": [
        "!kaggle datasets download -d gpiosenka/100-bird-species"
      ],
      "execution_count": 6,
      "outputs": [
        {
          "output_type": "stream",
          "text": [
            "Downloading 100-bird-species.zip to /content\n",
            " 99% 1.18G/1.19G [00:16<00:00, 103MB/s] \n",
            "100% 1.19G/1.19G [00:16<00:00, 78.2MB/s]\n"
          ],
          "name": "stdout"
        }
      ]
    },
    {
      "cell_type": "code",
      "metadata": {
        "id": "-E2w6TEXuTJ6",
        "colab_type": "code",
        "colab": {}
      },
      "source": [
        "import os\n",
        "import zipfile\n",
        "\n",
        "local_zip = '/content/100-bird-species.zip'\n",
        "zip_ref = zipfile.ZipFile(local_zip, 'r')\n",
        "zip_ref.extractall('/tmp/')\n",
        "zip_ref.close()"
      ],
      "execution_count": 7,
      "outputs": []
    },
    {
      "cell_type": "code",
      "metadata": {
        "id": "6aVBAZ_IuUoK",
        "colab_type": "code",
        "colab": {
          "base_uri": "https://localhost:8080/",
          "height": 51
        },
        "outputId": "c6c98d59-8a81-4682-fb12-eaa74cc80314"
      },
      "source": [
        "import tensorflow as tf\n",
        "import keras_preprocessing\n",
        "from keras_preprocessing import image\n",
        "from keras_preprocessing.image import ImageDataGenerator\n",
        "\n",
        "TRAINING_DIR = \"/tmp/train/\"\n",
        "training_datagen = ImageDataGenerator(\n",
        "      rescale = 1./255,\n",
        "\t    rotation_range=40,\n",
        "      width_shift_range=0.2,\n",
        "      height_shift_range=0.2,\n",
        "      shear_range=0.2,\n",
        "      zoom_range=0.2,\n",
        "      horizontal_flip=True,\n",
        "      fill_mode='nearest')\n",
        "\n",
        "VALIDATION_DIR = \"/tmp/valid/\"\n",
        "validation_datagen = ImageDataGenerator(rescale = 1./255)\n",
        "\n",
        "train_generator = training_datagen.flow_from_directory(\n",
        "\tTRAINING_DIR,\n",
        "\ttarget_size=(224,224),\n",
        "\tclass_mode='categorical',\n",
        "  batch_size=128\n",
        ")\n",
        "\n",
        "validation_generator = validation_datagen.flow_from_directory(\n",
        "\tVALIDATION_DIR,\n",
        "\ttarget_size=(224,224),\n",
        "\tclass_mode='categorical',\n",
        "  batch_size=32\n",
        ")"
      ],
      "execution_count": 8,
      "outputs": [
        {
          "output_type": "stream",
          "text": [
            "Found 27503 images belonging to 200 classes.\n",
            "Found 1000 images belonging to 200 classes.\n"
          ],
          "name": "stdout"
        }
      ]
    },
    {
      "cell_type": "code",
      "metadata": {
        "id": "pyshbBaquW1C",
        "colab_type": "code",
        "colab": {
          "base_uri": "https://localhost:8080/",
          "height": 289
        },
        "outputId": "08f9c609-fcd7-4e90-8bc4-9db0db27ca83"
      },
      "source": [
        "pretrained_model = tf.keras.applications.InceptionV3(\n",
        "        weights='imagenet',\n",
        "        include_top=False ,\n",
        "        input_shape=[224,224, 3]\n",
        ")\n",
        "pretrained_model.trainable = False\n",
        "    \n",
        "model = tf.keras.Sequential([\n",
        "        # To a base pretrained on ImageNet to extract features from images...\n",
        "    pretrained_model,\n",
        "        # ... attach a new head to act as a classifier.\n",
        "        #tf.keras.layers.Conv2D(512, [3,3], activation='relu'),\n",
        "        #tf.keras.layers.MaxPooling2D(2,2),\n",
        "        #tf.keras.layers.Conv2D(512, [3,3], activation='relu'),\n",
        "        #tf.keras.layers.MaxPooling2D(2,2),\n",
        "        #tf.keras.layers.Flatten(),\n",
        "        #tf.keras.layers.Dense(512, activation='relu'),\n",
        "\n",
        "        #tf.keras.layers.Dense(512, activation='relu'),\n",
        "    tf.keras.layers.GlobalAveragePooling2D(),\n",
        "    tf.keras.layers.Dense(200, activation='softmax')\n",
        "])\n",
        "model.compile(\n",
        "        optimizer='adam',\n",
        "        loss = 'categorical_crossentropy',\n",
        "        metrics=['accuracy'],\n",
        ")\n",
        "\n",
        "model.summary()"
      ],
      "execution_count": 9,
      "outputs": [
        {
          "output_type": "stream",
          "text": [
            "Downloading data from https://storage.googleapis.com/tensorflow/keras-applications/inception_v3/inception_v3_weights_tf_dim_ordering_tf_kernels_notop.h5\n",
            "87916544/87910968 [==============================] - 1s 0us/step\n",
            "Model: \"sequential\"\n",
            "_________________________________________________________________\n",
            "Layer (type)                 Output Shape              Param #   \n",
            "=================================================================\n",
            "inception_v3 (Model)         (None, 5, 5, 2048)        21802784  \n",
            "_________________________________________________________________\n",
            "global_average_pooling2d (Gl (None, 2048)              0         \n",
            "_________________________________________________________________\n",
            "dense (Dense)                (None, 200)               409800    \n",
            "=================================================================\n",
            "Total params: 22,212,584\n",
            "Trainable params: 409,800\n",
            "Non-trainable params: 21,802,784\n",
            "_________________________________________________________________\n"
          ],
          "name": "stdout"
        }
      ]
    },
    {
      "cell_type": "code",
      "metadata": {
        "id": "LRgiZRpSuauE",
        "colab_type": "code",
        "colab": {
          "base_uri": "https://localhost:8080/",
          "height": 357
        },
        "outputId": "ba5ae5c5-a0eb-43db-8d1b-7efced00355b"
      },
      "source": [
        "history = model.fit(train_generator, epochs=10, steps_per_epoch=27503//128, validation_data = validation_generator, verbose = 1, validation_steps=1000//32)"
      ],
      "execution_count": 10,
      "outputs": [
        {
          "output_type": "stream",
          "text": [
            "Epoch 1/10\n",
            "215/214 [==============================] - 386s 2s/step - loss: 2.0368 - accuracy: 0.5369 - val_loss: 0.7325 - val_accuracy: 0.8220\n",
            "Epoch 2/10\n",
            "215/214 [==============================] - 379s 2s/step - loss: 1.0431 - accuracy: 0.7296 - val_loss: 0.5523 - val_accuracy: 0.8560\n",
            "Epoch 3/10\n",
            "215/214 [==============================] - 376s 2s/step - loss: 0.8653 - accuracy: 0.7688 - val_loss: 0.4526 - val_accuracy: 0.8720\n",
            "Epoch 4/10\n",
            "215/214 [==============================] - 374s 2s/step - loss: 0.7565 - accuracy: 0.7933 - val_loss: 0.4028 - val_accuracy: 0.8860\n",
            "Epoch 5/10\n",
            "215/214 [==============================] - 371s 2s/step - loss: 0.7053 - accuracy: 0.8054 - val_loss: 0.3700 - val_accuracy: 0.8960\n",
            "Epoch 6/10\n",
            "215/214 [==============================] - 366s 2s/step - loss: 0.6603 - accuracy: 0.8169 - val_loss: 0.3429 - val_accuracy: 0.9130\n",
            "Epoch 7/10\n",
            "215/214 [==============================] - 362s 2s/step - loss: 0.6218 - accuracy: 0.8264 - val_loss: 0.3159 - val_accuracy: 0.9160\n",
            "Epoch 8/10\n",
            "215/214 [==============================] - 360s 2s/step - loss: 0.5838 - accuracy: 0.8359 - val_loss: 0.3243 - val_accuracy: 0.9100\n",
            "Epoch 9/10\n",
            "215/214 [==============================] - 367s 2s/step - loss: 0.5550 - accuracy: 0.8422 - val_loss: 0.2993 - val_accuracy: 0.9200\n",
            "Epoch 10/10\n",
            "215/214 [==============================] - 377s 2s/step - loss: 0.5455 - accuracy: 0.8467 - val_loss: 0.3019 - val_accuracy: 0.9100\n"
          ],
          "name": "stdout"
        }
      ]
    },
    {
      "cell_type": "code",
      "metadata": {
        "id": "sTXAEjRZudDb",
        "colab_type": "code",
        "colab": {}
      },
      "source": [
        "model.save(\"/tmp/200_birds_model_InceptionV3.h5\")"
      ],
      "execution_count": 11,
      "outputs": []
    },
    {
      "cell_type": "code",
      "metadata": {
        "id": "1sTVUC34ujU0",
        "colab_type": "code",
        "colab": {
          "base_uri": "https://localhost:8080/",
          "height": 298
        },
        "outputId": "7a46ff53-cdbc-4517-f2c5-2d95eeaaefd2"
      },
      "source": [
        "import matplotlib.pyplot as plt\n",
        "acc = history.history['accuracy']\n",
        "val_acc = history.history['val_accuracy']\n",
        "loss = history.history['loss']\n",
        "val_loss = history.history['val_loss']\n",
        "\n",
        "epochs = range(len(acc))\n",
        "\n",
        "plt.plot(epochs, acc, 'r', label='Training accuracy')\n",
        "plt.plot(epochs, val_acc, 'b', label='Validation accuracy')\n",
        "plt.title('Training and validation accuracy')\n",
        "plt.legend(loc=0)\n",
        "plt.figure()\n",
        "\n",
        "\n",
        "plt.show()"
      ],
      "execution_count": 12,
      "outputs": [
        {
          "output_type": "display_data",
          "data": {
            "image/png": "[encoded data removed]",
            "text/plain": [
              "<Figure size 432x288 with 1 Axes>"
            ]
          },
          "metadata": {
            "tags": [],
            "needs_background": "light"
          }
        },
        {
          "output_type": "display_data",
          "data": {
            "text/plain": [
              "<Figure size 432x288 with 0 Axes>"
            ]
          },
          "metadata": {
            "tags": []
          }
        }
      ]
    },
    {
      "cell_type": "code",
      "metadata": {
        "id": "yGvt-SNnulN5",
        "colab_type": "code",
        "colab": {
          "base_uri": "https://localhost:8080/",
          "height": 34
        },
        "outputId": "36b3dd49-048b-4f49-b594-05de8ec02788"
      },
      "source": [
        "TESTING_DIR = \"/tmp/test/\"\n",
        "testing_datagen = ImageDataGenerator(rescale = 1./255)\n",
        "testing_generator = testing_datagen.flow_from_directory(\n",
        "\tTESTING_DIR,\n",
        "\ttarget_size=(224,224),\n",
        "\tclass_mode='categorical',\n",
        "  batch_size=32\n",
        ")"
      ],
      "execution_count": 13,
      "outputs": [
        {
          "output_type": "stream",
          "text": [
            "Found 1000 images belonging to 200 classes.\n"
          ],
          "name": "stdout"
        }
      ]
    },
    {
      "cell_type": "code",
      "metadata": {
        "id": "U-dMljl5unlF",
        "colab_type": "code",
        "colab": {
          "base_uri": "https://localhost:8080/",
          "height": 51
        },
        "outputId": "1c609872-ec9b-4073-a911-242a8cf81c22"
      },
      "source": [
        "model.evaluate(testing_generator, steps=1000//32, verbose=1)"
      ],
      "execution_count": 14,
      "outputs": [
        {
          "output_type": "stream",
          "text": [
            "31/31 [==============================] - 5s 154ms/step - loss: 0.2214 - accuracy: 0.9325\n"
          ],
          "name": "stdout"
        },
        {
          "output_type": "execute_result",
          "data": {
            "text/plain": [
              "[0.22136884927749634, 0.9324596524238586]"
            ]
          },
          "metadata": {
            "tags": []
          },
          "execution_count": 14
        }
      ]
    },
    {
      "cell_type": "code",
      "metadata": {
        "id": "f2BTL1uaupx7",
        "colab_type": "code",
        "colab": {
          "base_uri": "https://localhost:8080/",
          "height": 17
        },
        "outputId": "6d2f0edd-ad9e-4b41-b32c-e7e30603b76f"
      },
      "source": [
        "from google.colab import files\n",
        "files.download('/tmp/200_birds_model_InceptionV3.h5') "
      ],
      "execution_count": 15,
      "outputs": [
        {
          "output_type": "display_data",
          "data": {
            "application/javascript": [
              "\n",
              "    async function download(id, filename, size) {\n",
              "      if (!google.colab.kernel.accessAllowed) {\n",
              "        return;\n",
              "      }\n",
              "      const div = document.createElement('div');\n",
              "      const label = document.createElement('label');\n",
              "      label.textContent = `Downloading \"${filename}\": `;\n",
              "      div.appendChild(label);\n",
              "      const progress = document.createElement('progress');\n",
              "      progress.max = size;\n",
              "      div.appendChild(progress);\n",
              "      document.body.appendChild(div);\n",
              "\n",
              "      const buffers = [];\n",
              "      let downloaded = 0;\n",
              "\n",
              "      const channel = await google.colab.kernel.comms.open(id);\n",
              "      // Send a message to notify the kernel that we're ready.\n",
              "      channel.send({})\n",
              "\n",
              "      for await (const message of channel.messages) {\n",
              "        // Send a message to notify the kernel that we're ready.\n",
              "        channel.send({})\n",
              "        if (message.buffers) {\n",
              "          for (const buffer of message.buffers) {\n",
              "            buffers.push(buffer);\n",
              "            downloaded += buffer.byteLength;\n",
              "            progress.value = downloaded;\n",
              "          }\n",
              "        }\n",
              "      }\n",
              "      const blob = new Blob(buffers, {type: 'application/binary'});\n",
              "      const a = document.createElement('a');\n",
              "      a.href = window.URL.createObjectURL(blob);\n",
              "      a.download = filename;\n",
              "      div.appendChild(a);\n",
              "      a.click();\n",
              "      div.remove();\n",
              "    }\n",
              "  "
            ],
            "text/plain": [
              "<IPython.core.display.Javascript object>"
            ]
          },
          "metadata": {
            "tags": []
          }
        },
        {
          "output_type": "display_data",
          "data": {
            "application/javascript": [
              "download(\"download_6f2f8bad-1063-463d-978a-994a4fdee1fa\", \"200_birds_model_InceptionV3.h5\", 92630200)"
            ],
            "text/plain": [
              "<IPython.core.display.Javascript object>"
            ]
          },
          "metadata": {
            "tags": []
          }
        }
      ]
    },
    {
      "cell_type": "code",
      "metadata": {
        "id": "o2hw7f4TuyE4",
        "colab_type": "code",
        "colab": {}
      },
      "source": [
        ""
      ],
      "execution_count": 15,
      "outputs": []
    }
  ]
}